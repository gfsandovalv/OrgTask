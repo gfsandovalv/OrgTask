{
 "cells": [
  {
   "cell_type": "code",
   "execution_count": 18,
   "metadata": {},
   "outputs": [
    {
     "name": "stdout",
     "output_type": "stream",
     "text": [
      "The autoreload extension is already loaded. To reload it, use:\n",
      "  %reload_ext autoreload\n"
     ]
    }
   ],
   "source": [
    "import sys\n",
    "sys.path.append('../') \n",
    "import org_parse\n",
    "%load_ext autoreload\n",
    "%autoreload 2\n",
    "\n",
    "import org_core\n",
    "agenda = org_core.OrgAgenda('../example_orgs/example0.org')"
   ]
  },
  {
   "cell_type": "code",
   "execution_count": 19,
   "metadata": {},
   "outputs": [
    {
     "name": "stdout",
     "output_type": "stream",
     "text": [
      "# Review document\n",
      "Scheduled for June 16, 2009\n",
      "Deadline for July 01, 2009\n",
      "Clock starting in February 26, 2012, and is ending in February 26, 2012\n",
      "some text Body\n",
      "asdasd\n",
      "blablabblablab\n",
      "blablab\n",
      "blablabblablab\n"
     ]
    }
   ],
   "source": [
    "print(agenda.tasks.OrgTask_obj.iloc[0].string_summary) # Testing simple summarty string"
   ]
  }
 ],
 "metadata": {
  "kernelspec": {
   "display_name": "base",
   "language": "python",
   "name": "python3"
  },
  "language_info": {
   "codemirror_mode": {
    "name": "ipython",
    "version": 3
   },
   "file_extension": ".py",
   "mimetype": "text/x-python",
   "name": "python",
   "nbconvert_exporter": "python",
   "pygments_lexer": "ipython3",
   "version": "3.12.1"
  }
 },
 "nbformat": 4,
 "nbformat_minor": 2
}
